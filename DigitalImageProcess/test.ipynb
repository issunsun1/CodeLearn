{
 "cells": [
  {
   "cell_type": "markdown",
   "metadata": {},
   "source": [
    "距离\n",
    "    1. 欧式距离\n",
    "    2. 曼哈顿距离（城市街区距离）|x-a|+|y-b|\n",
    "    3. 切比雪夫距离（棋盘距离） max(|x-a|,|y-b|)\n"
   ]
  },
  {
   "cell_type": "markdown",
   "metadata": {},
   "source": [
    "图像增强\n",
    "    1. 图像反转 L-1-r\n",
    "    2. 对数转换 c*log(1+r) // c为常数\n",
    "    3. 幂级变换 c*r^gamma // c和gamma为正常数"
   ]
  },
  {
   "cell_type": "code",
   "execution_count": null,
   "metadata": {},
   "outputs": [
    {
     "name": "stdout",
     "output_type": "stream",
     "text": [
      "None\n"
     ]
    },
    {
     "name": "stderr",
     "output_type": "stream",
     "text": [
      "<>:6: SyntaxWarning: invalid escape sequence '\\i'\n",
      "<>:6: SyntaxWarning: invalid escape sequence '\\i'\n",
      "/var/folders/j2/xzt61_g939sf547b3c7twmjw0000gn/T/ipykernel_4831/3390643945.py:6: SyntaxWarning: invalid escape sequence '\\i'\n",
      "  img_rgb = cv2.imread('.\\image\\1.png')\n",
      "[ WARN:0@21.386] global loadsave.cpp:241 findDecoder imread_('.\\image\u0001.png'): can't open/read file: check file path/integrity\n"
     ]
    }
   ],
   "source": [
    "import os\n",
    "import sys\n",
    "import cv2\n",
    "import numpy as np\n",
    "\n",
    "img_rgb = cv2.imread(r'.\\image\\1.png')\n",
    "print(img_rgb)"
   ]
  }
 ],
 "metadata": {
  "kernelspec": {
   "display_name": "newpython",
   "language": "python",
   "name": "python3"
  },
  "language_info": {
   "codemirror_mode": {
    "name": "ipython",
    "version": 3
   },
   "file_extension": ".py",
   "mimetype": "text/x-python",
   "name": "python",
   "nbconvert_exporter": "python",
   "pygments_lexer": "ipython3",
   "version": "3.12.0"
  }
 },
 "nbformat": 4,
 "nbformat_minor": 2
}
