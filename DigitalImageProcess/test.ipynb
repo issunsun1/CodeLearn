{
 "cells": [
  {
   "cell_type": "markdown",
   "metadata": {},
   "source": [
    "距离\n",
    "    1. 欧式距离\n",
    "    2. 曼哈顿距离（城市街区距离）|x-a|+|y-b|\n",
    "    3. 切比雪夫距离（棋盘距离） max(|x-a|,|y-b|)\n"
   ]
  },
  {
   "cell_type": "markdown",
   "metadata": {},
   "source": [
    "图像增强\n",
    "    1. 图像反转 L-1-r\n",
    "    2. 对数转换 c*log(1+r) // c为常数\n",
    "    3. 幂级变换 c*r^gamma // c和gamma为正常数"
   ]
  }
 ],
 "metadata": {
  "language_info": {
   "name": "python"
  }
 },
 "nbformat": 4,
 "nbformat_minor": 2
}
